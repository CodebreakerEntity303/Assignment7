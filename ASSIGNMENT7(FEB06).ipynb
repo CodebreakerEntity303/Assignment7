{
 "cells": [
  {
   "cell_type": "code",
   "execution_count": 28,
   "id": "f82939c8",
   "metadata": {},
   "outputs": [
    {
     "name": "stdout",
     "output_type": "stream",
     "text": [
      "I wznt to yexome z Dztz Sxientistaca\n"
     ]
    }
   ],
   "source": [
    "#Q2\n",
    "encrypt = \"I want to become a Data Scientist\"\n",
    "\n",
    "dict = {\"a\": \"z\", \"b\": \"y\",\"c\": \"x\"}\n",
    "\n",
    "num = encrypt[::1]\n",
    "\n",
    "for i in dict:\n",
    "    num = num.replace(i, dict[i])\n",
    "print(f\"{num}aca\")\n"
   ]
  }
 ],
 "metadata": {
  "kernelspec": {
   "display_name": "Python 3 (ipykernel)",
   "language": "python",
   "name": "python3"
  },
  "language_info": {
   "codemirror_mode": {
    "name": "ipython",
    "version": 3
   },
   "file_extension": ".py",
   "mimetype": "text/x-python",
   "name": "python",
   "nbconvert_exporter": "python",
   "pygments_lexer": "ipython3",
   "version": "3.11.1"
  }
 },
 "nbformat": 4,
 "nbformat_minor": 5
}
